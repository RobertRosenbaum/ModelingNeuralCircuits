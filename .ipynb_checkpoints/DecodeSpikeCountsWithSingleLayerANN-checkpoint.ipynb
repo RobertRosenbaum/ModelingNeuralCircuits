{
 "cells": [
  {
   "cell_type": "code",
   "execution_count": 1,
   "metadata": {
    "colab": {
     "base_uri": "https://localhost:8080/"
    },
    "executionInfo": {
     "elapsed": 1833,
     "status": "ok",
     "timestamp": 1701963449928,
     "user": {
      "displayName": "Robert Rosenbaum",
      "userId": "09541400600911705212"
     },
     "user_tz": 300
    },
    "id": "WWwvfAgA_J1g",
    "outputId": "beb106e8-0eb0-4ec5-e2de-435425c1948c"
   },
   "outputs": [
    {
     "name": "stdout",
     "output_type": "stream",
     "text": [
      "The orientation for trial 3 was 120 degrees.\n"
     ]
    }
   ],
   "source": [
    "###############################################\n",
    "## Import packages and specify some settings ##\n",
    "###############################################\n",
    "# Import packages\n",
    "import numpy as np\n",
    "import matplotlib.pyplot as plt\n",
    "import seaborn as sns\n",
    "\n",
    "# This makes plots show up and look nice\n",
    "%matplotlib inline\n",
    "sns.set(context='paper',style='white',font_scale=1.5,rc={\"lines.linewidth\":2.5})\n",
    "sns.set_palette('muted')\n",
    "\n",
    "# Keep this set to false unless you want to save figures and data\n",
    "# (in which case you'll need to change some directories below)\n",
    "SaveFigures=False\n",
    "###############################################\n",
    "###############################################\n",
    "\n",
    "\n",
    "# Load the data from a file\n",
    "if 'google.colab' in str(get_ipython()):\n",
    "    url = \"https://raw.githubusercontent.com/RobertRosenbaum/ModelingNeuralCircuits/master/DataFiles/SpikeCounts112Neuron12Thetas.npz\"\n",
    "    file = np.DataSource().open(url)\n",
    "    data = np.load(file.name, allow_pickle=True)\n",
    "else:\n",
    "    data = np.load('../DataFiles/SpikeCounts112Neuron12Thetas.npz', allow_pickle=True)\n",
    "\n",
    "\n",
    "# Extract the data from the data dictionary to arrays.\n",
    "X=data['x']\n",
    "Y=data['y']\n",
    "XTest=data['xTest']\n",
    "YTest=data['yTest']\n",
    "AllOrientations=data['AllOrientations']\n",
    "T=data['T']\n",
    "\n",
    "# Get the orientations (in degrees) for each trial\n",
    "# from the one-hot encoded labels in y\n",
    "Orientations=(AllOrientations[np.argmax(Y,axis=0)]).astype(int)\n",
    "\n",
    "# Print one orientation\n",
    "j=3\n",
    "print('The orientation for trial',j,'was',Orientations[j],'degrees.')\n",
    "\n",
    "\n",
    "# Write code for exercise here.\n"
   ]
  },
  {
   "cell_type": "code",
   "execution_count": null,
   "metadata": {
    "id": "avY2KA5K_J1j"
   },
   "outputs": [],
   "source": []
  }
 ],
 "metadata": {
  "colab": {
   "provenance": []
  },
  "kernelspec": {
   "display_name": "Python 3 (ipykernel)",
   "language": "python",
   "name": "python3"
  },
  "language_info": {
   "codemirror_mode": {
    "name": "ipython",
    "version": 3
   },
   "file_extension": ".py",
   "mimetype": "text/x-python",
   "name": "python",
   "nbconvert_exporter": "python",
   "pygments_lexer": "ipython3",
   "version": "3.11.8"
  }
 },
 "nbformat": 4,
 "nbformat_minor": 4
}
