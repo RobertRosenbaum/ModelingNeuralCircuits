{
 "cells": [
  {
   "cell_type": "code",
   "execution_count": 2,
   "metadata": {
    "colab": {
     "base_uri": "https://localhost:8080/",
     "height": 296
    },
    "executionInfo": {
     "elapsed": 13789,
     "status": "ok",
     "timestamp": 1709915121970,
     "user": {
      "displayName": "Robert Rosenbaum",
      "userId": "09541400600911705212"
     },
     "user_tz": 300
    },
    "id": "cSiK-M2T4bkH",
    "outputId": "ee938962-0852-4c6d-b791-9d48885afea0",
    "tags": []
   },
   "outputs": [
    {
     "data": {
      "image/png": "[encoded data removed]",
      "text/plain": [
       "<Figure size 1200x300 with 4 Axes>"
      ]
     },
     "metadata": {},
     "output_type": "display_data"
    }
   ],
   "source": [
    "###############################################\n",
    "## Import packages and specify some settings ##\n",
    "###############################################\n",
    "# Import packages\n",
    "import numpy as np\n",
    "import matplotlib.pyplot as plt\n",
    "import seaborn as sns\n",
    "\n",
    "# This makes plots show up and look nice\n",
    "#matplotlib inline\n",
    "sns.set(context='paper',style='white',font_scale=1.5,rc={\"lines.linewidth\":2.5})\n",
    "sns.set_palette('muted')\n",
    "\n",
    "###############################################\n",
    "###############################################\n",
    "\n",
    "# For computing runtimes\n",
    "from time import time as tm\n",
    "\n",
    "# Seed random number generator so that\n",
    "# we get the same results every time\n",
    "# we run this code\n",
    "np.random.seed(7)\n",
    "\n",
    "\n",
    "# Load the data from a file\n",
    "try:\n",
    "    data = np.load('../DataFiles/MNISTdata.npz', allow_pickle=True)\n",
    "except:\n",
    "    url = \"https://raw.githubusercontent.com/RobertRosenbaum/ModelingNeuralCircuits/master/DataFiles/MNISTdata.npz\"\n",
    "    file = np.DataSource().open(url)\n",
    "    data = np.load(file.name, allow_pickle=True)\n",
    "X=data['X']\n",
    "\n",
    "# Attractor pattern\n",
    "i=7\n",
    "S0=np.zeros(28*28)\n",
    "S0[X[:,i]>.5]=1\n",
    "S0[X[:,i]<=.5]=-1\n",
    "\n",
    "# Dimension of s\n",
    "N=len(S0)\n",
    "\n",
    "# Define a W that will have S0 as its minimal energy state\n",
    "W=(1/N**2)*(np.outer(S0,S0)-np.diag(S0))\n",
    "\n",
    "\n",
    "S=S0.copy()\n",
    "NumPixelsToPerturb=80\n",
    "Inds=np.random.randint(N,size=NumPixelsToPerturb)\n",
    "#Inds0=np.random.randint(5,size=(2,NumPixelsToPerturb))\n",
    "#Inds=(Inds0[0]+1)*7+(Inds0[1]+1)\n",
    "S[Inds]=-S[Inds]\n",
    "Sinit=S.copy()\n",
    "\n",
    "# Compute Hopfield dynamics\n",
    "T=5500\n",
    "E=np.zeros(T)\n",
    "for n in range(T):\n",
    "\n",
    "    # Compute the energy\n",
    "    E[n]=-np.sum((S.T)@W@S)\n",
    "\n",
    "    # Compute the input\n",
    "    I=W@S\n",
    "\n",
    "    # Choose a random neuron\n",
    "    # and update its state\n",
    "    j=np.random.randint(N)\n",
    "    S[j]=np.sign(I[j])\n",
    "\n",
    "\n",
    "# Make figure\n",
    "plt.subplots(1,4,figsize=(12, 3))\n",
    "\n",
    "plt.subplot(1,4,1)\n",
    "plt.imshow(Sinit.reshape(28,28))\n",
    "plt.axis('off')\n",
    "plt.title('A',loc='left')\n",
    "plt.title(r'initial $\\mathbf{S}$',loc='center')\n",
    "sns.despine()\n",
    "\n",
    "plt.subplot(1,4,2)\n",
    "plt.imshow(S0.reshape(28,28))\n",
    "plt.axis('off')\n",
    "plt.title('B',loc='left')\n",
    "plt.title(r'$\\mathbf{S}^0$',loc='center')\n",
    "sns.despine()\n",
    "\n",
    "\n",
    "plt.subplot(1,4,3)\n",
    "plt.plot(np.arange(0,T),E,color=[.6,.6,.6])\n",
    "#plt.ticklabel_format(axis=\"x\", style=\"sci\",scilimits=(0,0))\n",
    "#plt.ticklabel_format(axis=\"y\", style=\"sci\",scilimits=(0,0))\n",
    "plt.xlabel('time (n)')\n",
    "plt.ylabel('energy (E)')\n",
    "plt.title('C',loc='left')\n",
    "sns.despine()\n",
    "\n",
    "\n",
    "plt.subplot(1,4,4)\n",
    "plt.imshow(S.reshape(28,28))\n",
    "plt.axis('off')\n",
    "plt.title('D',loc='left')\n",
    "plt.title(r'final $\\mathbf{S}$',loc='center')\n",
    "sns.despine()\n",
    "\n",
    "\n",
    "\n",
    "\n",
    "plt.tight_layout()\n"
   ]
  },
  {
   "cell_type": "code",
   "execution_count": null,
   "metadata": {
    "id": "sr2FPpTl4bkJ"
   },
   "outputs": [],
   "source": []
  }
 ],
 "metadata": {
  "colab": {
   "provenance": []
  },
  "kernelspec": {
   "display_name": "Python 3 (ipykernel)",
   "language": "python",
   "name": "python3"
  },
  "language_info": {
   "codemirror_mode": {
    "name": "ipython",
    "version": 3
   },
   "file_extension": ".py",
   "mimetype": "text/x-python",
   "name": "python",
   "nbconvert_exporter": "python",
   "pygments_lexer": "ipython3",
   "version": "3.11.8"
  }
 },
 "nbformat": 4,
 "nbformat_minor": 4
}
