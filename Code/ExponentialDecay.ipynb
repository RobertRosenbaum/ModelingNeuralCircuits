{
 "cells": [
  {
   "cell_type": "code",
   "execution_count": null,
   "metadata": {
    "id": "P_chqPe6lenc",
    "outputId": "04e0d1d1-89cf-4c07-c17f-88a0b923de4b"
   },
   "outputs": [
    {
     "data": {
      "image/png": "[encoded data removed]",
      "text/plain": [
       "<Figure size 360x198 with 1 Axes>"
      ]
     },
     "metadata": {},
     "output_type": "display_data"
    }
   ],
   "source": [
    "###############################################\n",
    "## Import packages and specify some settings ##\n",
    "###############################################\n",
    "# Import packages\n",
    "import numpy as np\n",
    "import matplotlib.pyplot as plt\n",
    "import seaborn as sns\n",
    "\n",
    "# This makes plots show up and look nice\n",
    "%matplotlib inline\n",
    "sns.set(context='paper',style='white',font_scale=1.5,rc={\"lines.linewidth\":2.5})\n",
    "sns.set_palette('muted')\n",
    "\n",
    "###############################################\n",
    "###############################################\n",
    "\n",
    "# Define parameters\n",
    "tau=10\n",
    "c=5\n",
    "\n",
    "# Initial conditions\n",
    "x0=10\n",
    "y0=10\n",
    "\n",
    "# Discretized time\n",
    "T=70\n",
    "dt=.1\n",
    "time=np.arange(0,T,dt)\n",
    "\n",
    "# Define solutions\n",
    "x=x0*np.exp(-time/tau)\n",
    "y=c+(y0-c)*np.exp(-time/tau)\n",
    "\n",
    "# Make plot\n",
    "plt.figure(figsize=(5, 2.75))\n",
    "\n",
    "plt.plot(time,x,'b',label='x(t)')\n",
    "plt.plot(time,y,'r',label='y(t)')\n",
    "plt.plot(time,c+0*time,'k--', label='c')\n",
    "plt.xlabel('t')\n",
    "plt.legend(loc=(1,0.2))\n",
    "sns.despine()\n",
    "plt.tight_layout()\n",
    "\n",
    "\n"
   ]
  },
  {
   "cell_type": "code",
   "execution_count": null,
   "metadata": {
    "id": "iedjxQvAlend"
   },
   "outputs": [],
   "source": []
  }
 ],
 "metadata": {
  "colab": {
   "provenance": []
  },
  "kernelspec": {
   "display_name": "Python 3 (ipykernel)",
   "language": "python",
   "name": "python3"
  },
  "language_info": {
   "codemirror_mode": {
    "name": "ipython",
    "version": 3
   },
   "file_extension": ".py",
   "mimetype": "text/x-python",
   "name": "python",
   "nbconvert_exporter": "python",
   "pygments_lexer": "ipython3",
   "version": "3.11.8"
  }
 },
 "nbformat": 4,
 "nbformat_minor": 4
}
