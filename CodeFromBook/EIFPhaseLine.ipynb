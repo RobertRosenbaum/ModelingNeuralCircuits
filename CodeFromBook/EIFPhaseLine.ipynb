{
 "cells": [
  {
   "cell_type": "code",
   "execution_count": 1,
   "metadata": {},
   "outputs": [
    {
     "data": {
      "image/png": "[encoded data removed]",
      "text/plain": [
       "<Figure size 648x201.6 with 2 Axes>"
      ]
     },
     "metadata": {},
     "output_type": "display_data"
    }
   ],
   "source": [
    "###############################################\n",
    "## Import packages and specify some settings ##\n",
    "###############################################\n",
    "# Import packages\n",
    "import numpy as np\n",
    "import matplotlib.pyplot as plt\n",
    "import seaborn as sns\n",
    "\n",
    "# This makes plots show up and look nice\n",
    "%matplotlib inline\n",
    "sns.set(context='paper',style='white',font_scale=1.5,rc={\"lines.linewidth\":2.5})\n",
    "sns.set_palette('tab10')\n",
    "\n",
    "###############################################\n",
    "###############################################\n",
    "\n",
    "\n",
    "# Neuron parameters\n",
    "EL=-72 \n",
    "taum=15 \n",
    "Vth=5 \n",
    "Vre=-75 \n",
    "VT=-55 \n",
    "D=2 \n",
    "\n",
    "\n",
    "# RHS of ODE as a function of V and I0\n",
    "def f(V,I0):\n",
    "    return (-(V-EL)+D*np.exp((V-VT)/D)+I0)/taum\n",
    "\n",
    "\n",
    "# Range of V over which to plot f(V)\n",
    "Vplot=np.arange(-80,Vth+.1,.1)\n",
    "\n",
    "\n",
    "plt.subplots(figsize=(9, 2.8))\n",
    "\n",
    "# Plot the phase line with I0=5\n",
    "I0=5\n",
    "plt.subplot(1,2,1)\n",
    "plt.axhline(y=0,color='black')\n",
    "plt.plot(Vplot,f(Vplot,I0))\n",
    "plt.plot(EL+I0,0,'.',markersize=15)\n",
    "plt.plot(VT,0,'.',markersize=15)\n",
    "plt.plot(Vth,0,'.',markersize=15,color='m')\n",
    "plt.arrow(-78,0,.2,0,head_width=.2, head_length=3,color='black')\n",
    "plt.arrow(-59,0,-.2,0,head_width=.2, head_length=3,color='black')\n",
    "plt.arrow(-30,0,.2,0,head_width=.2, head_length=3,color='black')\n",
    "plt.ylim(top=1.5,bottom=-.8)\n",
    "plt.title('A',loc='left')\n",
    "plt.xlabel('V')\n",
    "plt.ylabel('f(V)')\n",
    "sns.despine()\n",
    "\n",
    "# Plot the phase line with I0=20\n",
    "I0=20\n",
    "plt.subplot(1,2,2)\n",
    "plt.axhline(y=0,color='black')\n",
    "plt.plot(Vplot,f(Vplot,I0), label='f(V)')\n",
    "plt.plot(EL+I0,0,'.',markersize=15,label='$E_L+I_0$')\n",
    "plt.plot(VT,0,'.',markersize=15,label='$V_T$')\n",
    "plt.plot(Vth,0,'.',markersize=15,label='$V_{th}$',color='m')\n",
    "plt.arrow(-40,0,.2,0,head_width=.2, head_length=3,color='black')\n",
    "plt.legend(loc=(1.04,.25))\n",
    "plt.ylim(top=1.5,bottom=-.8)\n",
    "plt.title('B',loc='left')\n",
    "plt.xlabel('V')\n",
    "#plt.ylabel('f(V)')\n",
    "sns.despine()\n",
    "\n",
    "\n",
    "plt.tight_layout()\n",
    "\n"
   ]
  },
  {
   "cell_type": "code",
   "execution_count": null,
   "metadata": {},
   "outputs": [],
   "source": []
  }
 ],
 "metadata": {
  "kernelspec": {
   "display_name": "Python 3",
   "language": "python",
   "name": "python3"
  },
  "language_info": {
   "codemirror_mode": {
    "name": "ipython",
    "version": 3
   },
   "file_extension": ".py",
   "mimetype": "text/x-python",
   "name": "python",
   "nbconvert_exporter": "python",
   "pygments_lexer": "ipython3",
   "version": "3.7.4"
  }
 },
 "nbformat": 4,
 "nbformat_minor": 4
}
