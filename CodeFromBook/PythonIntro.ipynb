{
 "cells": [
  {
   "cell_type": "markdown",
   "metadata": {
    "id": "LYlAYL51_oDo"
   },
   "source": [
    "This is a text cell. It does not run Python code. It uses a markdown language to enable all sorts of formatting. Equations can be entered using LaTeX (*e.g.*, $E=mc^2$). You can double-click to edit a text cell and press Shift-Enter to compile it into formatted text.\n",
    "\n",
    "The cell below is a code cell that prints Hello World. \n",
    "To run it, press the play button or Shift-Enter. Shift-Enter moves to the next cell. In some notebook apps, you can press Ctrl-Enter or Cmd-Enter to run a cell without moving to the next cell.\n",
    "\n",
    "You can also use single quotes instead of double for a string. \n",
    "\n",
    "***Try changing from double to single, then run the code.***\n",
    "\n"
   ]
  },
  {
   "cell_type": "code",
   "execution_count": null,
   "metadata": {
    "id": "4DkkE4Q1A-cQ"
   },
   "outputs": [],
   "source": [
    "print(\"Hello World\")"
   ]
  },
  {
   "cell_type": "markdown",
   "metadata": {
    "id": "IM9Aat0aBc3B"
   },
   "source": [
    "# Printing variables\n",
    "\n",
    "You can also print the value of a numerical variable and you can print more than one thing at a time, as below.\n",
    "\n",
    "And comments are made using the `#` symbol\n",
    "\n",
    "***Modify the code to also print xy and x+y.***"
   ]
  },
  {
   "cell_type": "code",
   "execution_count": null,
   "metadata": {
    "id": "MZ41h7_sBmwA"
   },
   "outputs": [],
   "source": [
    "x=5 # This is a comment. This line defines x.\n",
    "y=2\n",
    "print(\"x =\",x,\"y =\",y)"
   ]
  },
  {
   "cell_type": "markdown",
   "metadata": {
    "id": "QbEWZScjBzXX"
   },
   "source": [
    "\n",
    "# Data Types\n",
    "\n",
    "Variables have a type. Three common types are ints, floats, and strings. Each of the variables below are one of those types. Floats can be recognized by the presence of a decimal.\n",
    "\n",
    "***If you add a float to an int, what is the result? Try adding them and printing the result to find out.***"
   ]
  },
  {
   "cell_type": "code",
   "execution_count": null,
   "metadata": {
    "id": "THXlWwrDBoY8"
   },
   "outputs": [],
   "source": [
    "xInt=5\n",
    "xFloat=5.0\n",
    "xString=\"five\""
   ]
  },
  {
   "cell_type": "markdown",
   "metadata": {
    "id": "xFO4sQXOC5Z6"
   },
   "source": [
    "# Lists\n",
    "\n",
    "Lists are lists of values, similar to arrays but more versatile. The elements can have the same type or different types. \n",
    "\n",
    "Elements of a list can be addressed with square brackets like this: `x[2]`. The first element of a list is at index zero, x[0]. This is like C, but unlike Matlab. \n",
    "\n",
    "The function `len(x)` gives the length of the list, `x`.\n",
    "\n",
    "***Modify the code below to print the second element of x (which is 5).***\n",
    "\n",
    "***Print the length of x.***"
   ]
  },
  {
   "cell_type": "code",
   "execution_count": null,
   "metadata": {
    "id": "j-UbAuTsCQ0n"
   },
   "outputs": [],
   "source": [
    "x=[1,5,7]\n",
    "print(x)\n",
    "x[1]=3\n",
    "print(x)"
   ]
  },
  {
   "cell_type": "markdown",
   "metadata": {},
   "source": [
    "# Immutable lists\n",
    "\n",
    "Lists can also be created using curved brackets. This creates an \"immutable\" list for which you cannot change the entries. \n",
    "\n",
    "**In the code below, try to change an element of `x` like we did in the cell above. You should get an error.**"
   ]
  },
  {
   "cell_type": "code",
   "execution_count": null,
   "metadata": {},
   "outputs": [],
   "source": [
    "x=(1,5,7)\n",
    "print(x)"
   ]
  },
  {
   "cell_type": "markdown",
   "metadata": {
    "id": "k4oB3r8dJtDE"
   },
   "source": [
    "# Passing by reference\n",
    "\n",
    "If you do `y=x` when `x` is a number, it makes a new copy of `x` to define `y`.\n",
    "\n",
    "If you do `b=a` when `a` is a list, then it \"passes by reference\" so `x` and `y` refer to the same data.\n",
    "\n",
    "***Try to guess what the values of `x` and `a` are at the end of the code cell below. Then add a print command to see for yourself.***"
   ]
  },
  {
   "cell_type": "code",
   "execution_count": null,
   "metadata": {
    "id": "hwrVjFeiJr5G"
   },
   "outputs": [],
   "source": [
    "x=5\n",
    "y=x\n",
    "y=10\n",
    "\n",
    "a=[1,2,3]\n",
    "b=a\n",
    "b[0]=100"
   ]
  },
  {
   "cell_type": "markdown",
   "metadata": {
    "id": "yZvXg5zrEDAt"
   },
   "source": [
    "# indexing contiguous elements of a list\n",
    "\n",
    "You can access multiple elements of a list using `:` .\n",
    "\n",
    "***Add a line of code that changes the first two elements of `a` to 10 and 20 (using `[10,20]` as the RHS). Then print `a` again.***\n"
   ]
  },
  {
   "cell_type": "code",
   "execution_count": null,
   "metadata": {
    "id": "5FvWnAbJEVBe"
   },
   "outputs": [],
   "source": [
    "a=[1,2,3,4,5,6,7]\n",
    "print(a[1:3])"
   ]
  },
  {
   "cell_type": "markdown",
   "metadata": {
    "id": "U9CwtLCQFO_s"
   },
   "source": [
    "# Indexing tricks\n",
    "\n",
    "To index from the second element to the last, you can do `a[1:]` \n",
    "\n",
    "To index from the first to the thrid, you can do `a[:2]`\n",
    "\n",
    "To take steps of size 2 between indices, you can do `a[1:6:2]`\n",
    "\n",
    "To index the last element, use `a[-1]`\n",
    "\n",
    "***Print the first three elements of `a`. Then print all the elements after the second one. Then print every other element starting with the second one.***"
   ]
  },
  {
   "cell_type": "code",
   "execution_count": null,
   "metadata": {
    "id": "wdTZ2JU7Fnz2"
   },
   "outputs": [],
   "source": [
    "a=[1,2,3,4,5,6,7]\n",
    "\n",
    "# Put code here"
   ]
  },
  {
   "cell_type": "markdown",
   "metadata": {
    "id": "iDSkxKrvFsyu"
   },
   "source": [
    "# for Loops\n",
    "\n",
    "for loops can iterate through a list, as below. Note the `:`.\n",
    "\n",
    "**Important note:** Python uses indentation to denote \"scope\" (e.g., inside versus outside of the for loop). You can use four spaces or tab to indent.\n",
    "\n",
    "***Modify the code to print a, b, and c (as strings) instead of 1, 2, and 3.***\n",
    "\n"
   ]
  },
  {
   "cell_type": "code",
   "execution_count": null,
   "metadata": {
    "id": "iBGwPwoJF2N0"
   },
   "outputs": [],
   "source": [
    "for i in [1,2,3]:\n",
    "  print(i)"
   ]
  },
  {
   "cell_type": "markdown",
   "metadata": {
    "id": "Tu_d1QNwJI-a"
   },
   "source": [
    "# range \n",
    "\n",
    "We often want to iterate through sequential integers. We can use `range` to do that. \n",
    "\n",
    "`range(3)` goes from 0 to 2.\n",
    "\n",
    "`range(2,5)` goes from 2 to 4.\n",
    "\n",
    "`range(2,10,2)` goes from 2 to 9 in steps of 2.\n",
    "\n",
    "***Print all the even integers from 4 to 20.***"
   ]
  },
  {
   "cell_type": "code",
   "execution_count": null,
   "metadata": {
    "id": "u_vvoRbuF4NT"
   },
   "outputs": [],
   "source": [
    "for i in range(3):\n",
    "  print(i)"
   ]
  },
  {
   "cell_type": "markdown",
   "metadata": {
    "id": "EGMpiFzYLyii"
   },
   "source": [
    "# Functions \n",
    "\n",
    "Functions are defined as below (note the indentation). They can take zero or more arguments and return zero or more arguments.\n",
    "\n",
    "***Define a function that takes a list as input and returns the first element of the list***"
   ]
  },
  {
   "cell_type": "code",
   "execution_count": null,
   "metadata": {
    "id": "gusRX5cWLfGD"
   },
   "outputs": [],
   "source": [
    "def myMult(x,y):\n",
    "    z=x*y\n",
    "    return z\n",
    "\n",
    "u=myMult(5,3)\n",
    "print(u)\n",
    "\n",
    "def OneTwoThree():\n",
    "  return 1,2,3\n",
    "\n",
    "v,w,x=OneTwoThree()\n",
    "print(v,w,x)"
   ]
  },
  {
   "cell_type": "markdown",
   "metadata": {
    "id": "kGVBTJpRNvly"
   },
   "source": [
    "# NumPy\n",
    "\n",
    "Numpy is a package for doing numerical computations in Python. It is very similar to Matlab. Import it using the import function, as below. After importing it, any numpy function can be accessed using `np.function` where `function` is the name of the function.\n",
    "\n",
    "If you're used to Matlab, this page that translates between Numpy and Matlab is very handy: https://docs.scipy.org/doc/numpy/user/numpy-for-matlab-users.html\n",
    "\n",
    "The most common data type is a numpy array. They are similar to a Python list.\n",
    "\n",
    "***Create and print a numpy array with two elements: 4 and 5.***"
   ]
  },
  {
   "cell_type": "code",
   "execution_count": null,
   "metadata": {
    "id": "u413T7YAMGhM"
   },
   "outputs": [],
   "source": [
    "import numpy as np\n",
    "x=np.array([1,2,3])\n",
    "print(x[1])"
   ]
  },
  {
   "cell_type": "markdown",
   "metadata": {
    "id": "GgrFyKZ9QLjM"
   },
   "source": [
    "# Creating NumPy arrays\n",
    "\n",
    "There are lots of functions for creating numpy arrays. Some examples are below.\n",
    "\n",
    "***Create a numpy array that goes from 3 to 9 in steps of 2***"
   ]
  },
  {
   "cell_type": "code",
   "execution_count": null,
   "metadata": {
    "id": "17RJRyXNPxs7"
   },
   "outputs": [],
   "source": [
    "x=np.zeros(5) # An array containing five 0's\n",
    "print(x)\n",
    "\n",
    "y=np.ones(10) # An array containing ten 1's\n",
    "print(y)\n",
    "\n",
    "v=np.arange(2,5) # Just like range(5)\n",
    "print(v)\n",
    "\n",
    "w=np.arange(0,1,.1) # But with arange you can take non-integer steps.\n",
    "print(w)\n",
    "\n",
    "u=np.random.rand(3) # Three random numbers from U[0,1]\n",
    "print(u)\n",
    "\n",
    "z=np.random.randn(5) # Five random numbers from N(0,1)\n",
    "print(z) "
   ]
  },
  {
   "cell_type": "markdown",
   "metadata": {
    "id": "qsOUd_pcivFo"
   },
   "source": [
    "# Logical indexing\n",
    "\n",
    "Logical indexing lets you index elements of an array based on the values inside that or other arrays. See below for examples.\n",
    "\n",
    "***Create an array of 20 normally distributed numbers then set all of the negative entries to zero.***"
   ]
  },
  {
   "cell_type": "code",
   "execution_count": null,
   "metadata": {
    "id": "vPS_l2FNi7iP"
   },
   "outputs": [],
   "source": [
    "a=np.array([10,20,30,40])\n",
    "b=np.array([5,5,5,5])\n",
    "b[a<=20]=1 # Find where a is <=20 and set the corresponding values of b to 1\n",
    "print(b)\n",
    "\n"
   ]
  },
  {
   "cell_type": "markdown",
   "metadata": {
    "id": "jH29-ZsgRnew"
   },
   "source": [
    "# Matrices\n",
    "\n",
    "Matrices are just arrays of arrays (2D arrays). They can be created as below.\n",
    "\n",
    "The size of any array can be accessed using `shape`\n",
    "\n",
    "To address a matrix, just use two indices separated by a comma.\n",
    "\n",
    "***Print the first row of x.***"
   ]
  },
  {
   "cell_type": "code",
   "execution_count": null,
   "metadata": {
    "id": "c3ms9taZRvql"
   },
   "outputs": [],
   "source": [
    "x=np.array([[1,2,3],[4,5,6]]) # Create a matrix by hand\n",
    "print(x)\n",
    "\n",
    "# For ones and zeros, you pass the size as a list.\n",
    "x=np.ones([3,3]) \n",
    "print(x)\n",
    "\n",
    "# For rand and randn, you just pass multiple arguments\n",
    "x=np.random.rand(3,3)\n",
    "print(x)\n",
    "\n",
    "# Print the size of x using two different syntaxes\n",
    "print(np.shape(x))\n",
    "print(x.shape)\n",
    "\n",
    "# To access elements, use two indices\n",
    "print(x[0,2])\n",
    "\n",
    "# You can also access multiple elements\n",
    "print(x[0:2,0])"
   ]
  },
  {
   "cell_type": "markdown",
   "metadata": {
    "id": "DaQ4DBSiUJYr"
   },
   "source": [
    "# Basic Linear Algebra in Numpy\n",
    "\n",
    "In NumPy, 1D arrays are treated as vectors \n",
    "\n",
    "and 2D arrays as matrices. There are built-in functions for just about any linear algebra operation you would want. You can use Google to find them.\n",
    "\n",
    "***Define the matrix $C=BA^T$ where $A^T$ is the transpose of $A$ then print $C$***"
   ]
  },
  {
   "cell_type": "code",
   "execution_count": null,
   "metadata": {
    "id": "5VEYU76VR2g0"
   },
   "outputs": [],
   "source": [
    "A=np.array([[1,2,3],[4,5,6],[5,5,5]])\n",
    "B=np.ones([3,3])\n",
    "x=np.array([7,8,9])\n",
    "y=np.ones(3)\n",
    "\n",
    "# Add two vectors or matrices (must have the same size)\n",
    "print(x+y)\n",
    "print(A+B)\n",
    "\n",
    "# Element-wise multiplication\n",
    "print(x*y)\n",
    "print(A*B)\n",
    "\n",
    "# Matrix-vector and matrix-matrix multiplication. Inner dimensions must agree\n",
    "# unless applied to two vectors of the same size, in which case the \n",
    "# dot product is computed.\n",
    "print(A@x)\n",
    "print(A@B)\n",
    "print(x@y) # dot product\n",
    "\n"
   ]
  },
  {
   "cell_type": "markdown",
   "metadata": {
    "id": "hCbBq4H0XJ0E"
   },
   "source": [
    "\n",
    "\n",
    "# Exercise: Create a dot product function\n",
    "\n",
    "Write a function, MyDotProduct, that takes two 1D numpy arrays as inputs and uses a for-loop to compute the dot product between them. To test your function, compare its output to the output from using `@` when applied to two random vectors.\n"
   ]
  },
  {
   "cell_type": "code",
   "execution_count": null,
   "metadata": {
    "id": "YyvttWj29ZEK"
   },
   "outputs": [],
   "source": [
    "# put code here\n"
   ]
  },
  {
   "cell_type": "markdown",
   "metadata": {
    "id": "-IRbBDWJT_BE"
   },
   "source": [
    "# Vectorization \n",
    "\n",
    "The code below computes the product between two random matrices using nested for-loops that directly implement the equation:\n",
    "$$\n",
    "  C(j,k)=\\sum_i A(j,i)B(i,k)\n",
    "$$\n",
    "It uses the `time` library to calculate how long it takes to perform the multplication. Read through the code to understand what it's doing. \n",
    "\n",
    "Vectorization is the act of using built-in functions in place of loops. The built-in functions are pre-compiled in C, so they run faster. To vectorize the loops below, you would just use the numpy matrix multiplication `@` in place of loops. \n",
    "\n",
    "**Add code at the end of this cell that performs the same matrix multiplication using the vectorized `@` operator. Compare the runtimes.**"
   ]
  },
  {
   "cell_type": "code",
   "execution_count": null,
   "metadata": {
    "id": "2JIu2fF2T_J3"
   },
   "outputs": [],
   "source": [
    "\n",
    "# import the timing function\n",
    "from time import time as tm \n",
    "\n",
    "# Define the number of dimensions\n",
    "n=200\n",
    "\n",
    "# Generate random matrices A and B\n",
    "A=np.random.randn(n,n)\n",
    "B=np.random.randn(n,n)\n",
    "\n",
    "### First Do matrix multiplication with nested loops\n",
    "t1=tm()\n",
    "\n",
    "C=np.zeros((n,n))\n",
    "\n",
    "for j in range(n):\n",
    "  for k in range(n):\n",
    "    for i in range(n):\n",
    "      C[j,k]=C[j,k]+A[j,i]*B[i,k]\n",
    "\n",
    "t2=tm()\n",
    "print(\"Time to compute product =\",t2-t1,\"seconds\")\n",
    "\n",
    "### Now do \"vectorized matrix multplication using @ and time it\n",
    "\n",
    "\n",
    "\n",
    "\n"
   ]
  },
  {
   "cell_type": "markdown",
   "metadata": {
    "id": "XwSirKf2ntbA"
   },
   "source": [
    "#  matplotlib\n",
    "\n",
    "`matplotlib` is a package for creating plots and other graphics. \n",
    "\n",
    "Its plotting functions take NumPy arrays as inputs. \n",
    "\n",
    "To create a new figure, use `plt.figure()`\n",
    "\n",
    "To make a standard line plot, use `plt.plot(x,y)`\n",
    "\n",
    "Some notebook apps require you to enter `plt.show()` to show the plot as output from the notebook.\n",
    "\n",
    "To make a plot in red, use `plt.plot(x,y,'r')` and there are many other options for styling your plots.\n"
   ]
  },
  {
   "cell_type": "code",
   "execution_count": null,
   "metadata": {
    "id": "03OfYvvTnxpK"
   },
   "outputs": [],
   "source": [
    "# Import matplotlib functions for plotting\n",
    "import matplotlib.pyplot as plt\n",
    "\n",
    "\n",
    "x=np.arange(-3,3,.1)\n",
    "y=x**2\n",
    "\n",
    "# Plot two curves on the same axis\n",
    "plt.figure()\n",
    "plt.plot(x,y,label='y')\n",
    "plt.plot(x,x**3,label='x^3')\n",
    "plt.legend()\n",
    "plt.xlabel('x')\n",
    "plt.ylabel('y')\n",
    "\n",
    "# Now make another figure\n",
    "plt.figure(figsize=(5,3))\n",
    "plt.plot(x,y,'g--')\n",
    "plt.plot(x,x**3,color=[.8,.1,.8],linewidth=2)\n",
    "plt.title('same plot with different style')\n",
    "\n",
    "\n",
    "plt.show()"
   ]
  },
  {
   "cell_type": "markdown",
   "metadata": {
    "id": "OlGgl5hepk3z"
   },
   "source": [
    "# seaborn\n",
    "\n",
    "seaborn is a package that helps make more aesthetically pleasing matplotlib plots and also provides many utilities for plotting data sets and their statistics. We will ony use it for aesthetic purposes.\n",
    "\n",
    "To make a $m\\times n$ grid of plots, use `subplot(m,n,j)` where `j` tells which gridspace to plot on.\n",
    "\n"
   ]
  },
  {
   "cell_type": "code",
   "execution_count": null,
   "metadata": {},
   "outputs": [],
   "source": [
    "import seaborn as sns\n",
    "\n",
    "# Change some seaboran setting to make plots look nicer\n",
    "sns.set(context='paper',style='white',font_scale=2, rc={\"lines.linewidth\": 2})\n",
    "sns.set_palette('muted')\n",
    "\n",
    "\n",
    "x=np.arange(-3,3,.1)\n",
    "y=x**2\n",
    "\n",
    "plt.subplots(figsize=(11,4))\n",
    "\n",
    "\n",
    "plt.subplot(1,2,1)\n",
    "plt.plot(x,y,label='y')\n",
    "plt.plot(x,x**3,label='x^3')\n",
    "plt.legend()\n",
    "plt.xlabel('x')\n",
    "plt.ylabel('y')\n",
    "plt.title('A',loc='left')\n",
    "\n",
    "\n",
    "plt.subplot(1,2,2)\n",
    "plt.plot(x,y,'g--')\n",
    "plt.plot(x,x**3,color=[.8,.1,.8],linewidth=2)\n",
    "plt.xlabel('x')\n",
    "plt.ylabel('y')\n",
    "plt.title('B',loc='left')\n",
    "\n",
    "plt.tight_layout()\n",
    "\n",
    "sns.despine()"
   ]
  },
  {
   "cell_type": "code",
   "execution_count": null,
   "metadata": {},
   "outputs": [],
   "source": []
  }
 ],
 "metadata": {
  "colab": {
   "collapsed_sections": [],
   "name": "Code0-PythonIntro.ipynb",
   "provenance": []
  },
  "kernelspec": {
   "display_name": "Python 3",
   "language": "python",
   "name": "python3"
  },
  "language_info": {
   "codemirror_mode": {
    "name": "ipython",
    "version": 3
   },
   "file_extension": ".py",
   "mimetype": "text/x-python",
   "name": "python",
   "nbconvert_exporter": "python",
   "pygments_lexer": "ipython3",
   "version": "3.7.4"
  }
 },
 "nbformat": 4,
 "nbformat_minor": 4
}
