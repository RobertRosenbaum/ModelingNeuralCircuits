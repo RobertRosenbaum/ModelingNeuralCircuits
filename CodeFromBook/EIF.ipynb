{
 "cells": [
  {
   "cell_type": "code",
   "execution_count": 8,
   "metadata": {},
   "outputs": [
    {
     "data": {
      "image/png": "[encoded data removed]",
      "text/plain": [
       "<Figure size 576x180 with 2 Axes>"
      ]
     },
     "metadata": {},
     "output_type": "display_data"
    }
   ],
   "source": [
    "###############################################\n",
    "## Import packages and specify some settings ##\n",
    "###############################################\n",
    "# Import packages\n",
    "import numpy as np\n",
    "import matplotlib.pyplot as plt\n",
    "import seaborn as sns\n",
    "\n",
    "# This makes plots show up and look nice\n",
    "%matplotlib inline\n",
    "sns.set(context='paper',style='white',font_scale=1.5,rc={\"lines.linewidth\":2.5})\n",
    "sns.set_palette('muted')\n",
    "\n",
    "###############################################\n",
    "###############################################\n",
    "\n",
    "# Discretized time\n",
    "T=1000\n",
    "dt=.1\n",
    "time=np.arange(0,T,dt)\n",
    "\n",
    "# Applied current\n",
    "Ix=np.zeros_like(time)\n",
    "Ix[(time>=200) & (time<=400)]=5\n",
    "Ix[(time>=600) & (time<=800)]=18\n",
    "\n",
    "\n",
    "# Neuron parameters\n",
    "EL=-72\n",
    "taum=15\n",
    "Vth=5\n",
    "Vre=-75\n",
    "VT=-55\n",
    "D=2\n",
    "\n",
    "# Initial condition\n",
    "V0=-70 \n",
    "\n",
    "\n",
    "# Compute V using the forward Euler method\n",
    "V=np.zeros_like(time)\n",
    "SpikeTimes=np.array([])\n",
    "V[0]=V0 \n",
    "for i in range(len(time)-1):\n",
    "    \n",
    "    # Euler step\n",
    "    V[i+1]=V[i]+dt*(-(V[i]-EL)+D*np.exp((V[i]-VT)/D)+Ix[i])/taum \n",
    "\n",
    "    # Threshold-reset condition\n",
    "    if V[i+1]>=Vth:\n",
    "        V[i+1]=Vre \n",
    "        V[i]=Vth  # This makes plots nicer\n",
    "        SpikeTimes=np.append(SpikeTimes,time[i+1])\n",
    "        \n",
    "\n",
    "\n",
    "# Make figure\n",
    "plt.subplots(figsize=(8, 2.5))\n",
    "\n",
    "plt.subplot(1,2,1)\n",
    "plt.plot(time,Ix,color='r')\n",
    "#plt.xlabel('time (ms)')\n",
    "plt.ylabel('I$_x$ (mV)')\n",
    "plt.title('A',loc='left')\n",
    "sns.despine()\n",
    "\n",
    "\n",
    "plt.subplot(1,2,2)\n",
    "plt.plot(time,V,color='gray')\n",
    "plt.plot(SpikeTimes,Vth+1+0*SpikeTimes,'ro')\n",
    "plt.xlabel('time (ms)')\n",
    "plt.ylabel('V (mV)')\n",
    "sns.despine()\n",
    "plt.title('B',loc='left')\n",
    "plt.tight_layout()\n",
    "\n",
    "\n"
   ]
  },
  {
   "cell_type": "code",
   "execution_count": null,
   "metadata": {},
   "outputs": [],
   "source": []
  },
  {
   "cell_type": "code",
   "execution_count": null,
   "metadata": {},
   "outputs": [],
   "source": []
  }
 ],
 "metadata": {
  "kernelspec": {
   "display_name": "Python 3",
   "language": "python",
   "name": "python3"
  },
  "language_info": {
   "codemirror_mode": {
    "name": "ipython",
    "version": 3
   },
   "file_extension": ".py",
   "mimetype": "text/x-python",
   "name": "python",
   "nbconvert_exporter": "python",
   "pygments_lexer": "ipython3",
   "version": "3.7.4"
  }
 },
 "nbformat": 4,
 "nbformat_minor": 4
}
