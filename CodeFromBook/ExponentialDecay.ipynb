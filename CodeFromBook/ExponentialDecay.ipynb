{
 "cells": [
  {
   "cell_type": "code",
   "execution_count": 1,
   "metadata": {},
   "outputs": [
    {
     "data": {
      "image/png": "[encoded data removed]",
      "text/plain": [
       "<Figure size 360x234 with 1 Axes>"
      ]
     },
     "metadata": {},
     "output_type": "display_data"
    }
   ],
   "source": [
    "###############################################\n",
    "## Import packages and specify some settings ##\n",
    "###############################################\n",
    "# Import packages\n",
    "import numpy as np\n",
    "import matplotlib.pyplot as plt\n",
    "import seaborn as sns\n",
    "\n",
    "# This makes plots show up and look nice\n",
    "%matplotlib inline\n",
    "sns.set(context='paper',style='white',font_scale=1.5,rc={\"lines.linewidth\":2.5})\n",
    "sns.set_palette('muted')\n",
    "\n",
    "# Keep this set to false unless you want to save figures and data\n",
    "# (in which case you'll need to change some directories below)\n",
    "SaveFigures=False\n",
    "###############################################\n",
    "###############################################\n",
    "\n",
    "# Define parameters\n",
    "tau=10;\n",
    "c=5;\n",
    "\n",
    "# Initial conditions\n",
    "x0=10;\n",
    "y0=10;\n",
    "\n",
    "# Discretized time\n",
    "T=70;\n",
    "dt=.1;\n",
    "time=np.arange(0,T,dt)\n",
    "\n",
    "# Define solutions\n",
    "x=x0*np.exp(-time/tau);\n",
    "y=c+(y0-c)*np.exp(-time/tau);\n",
    "\n",
    "# Make plot\n",
    "plt.figure(figsize=(5, 3.25))\n",
    "\n",
    "plt.plot(time,x, label='x(t)')\n",
    "plt.plot(time,y, label='y(t)')\n",
    "plt.plot(time,c+0*time,'k--', label='c')\n",
    "plt.xlabel('t')\n",
    "plt.legend()\n",
    "sns.despine()\n",
    "plt.tight_layout()\n",
    "\n",
    "\n",
    "# Save figure if needed\n",
    "if SaveFigures:\n",
    "    plt.savefig('../Figures/ExponentialDecay.pdf')\n",
    "        \n",
    "\n"
   ]
  },
  {
   "cell_type": "code",
   "execution_count": null,
   "metadata": {},
   "outputs": [],
   "source": []
  }
 ],
 "metadata": {
  "kernelspec": {
   "display_name": "Python 3",
   "language": "python",
   "name": "python3"
  },
  "language_info": {
   "codemirror_mode": {
    "name": "ipython",
    "version": 3
   },
   "file_extension": ".py",
   "mimetype": "text/x-python",
   "name": "python",
   "nbconvert_exporter": "python",
   "pygments_lexer": "ipython3",
   "version": "3.7.4"
  }
 },
 "nbformat": 4,
 "nbformat_minor": 4
}
